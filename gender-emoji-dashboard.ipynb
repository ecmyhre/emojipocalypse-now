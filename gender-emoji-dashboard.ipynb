{
 "cells": [
  {
   "cell_type": "code",
   "execution_count": 8,
   "metadata": {},
   "outputs": [
    {
     "name": "stdout",
     "output_type": "stream",
     "text": [
      "Downloading tweet dataset\n",
      "Downloading tweet dataset\n",
      "writing EmojiGender.html\n"
     ]
    },
    {
     "data": {
      "text/plain": [
       "13889403"
      ]
     },
     "execution_count": 8,
     "metadata": {},
     "output_type": "execute_result"
    }
   ],
   "source": [
    "import io\n",
    "import zipfile\n",
    "import agefromname\n",
    "import nltk\n",
    "import pandas as pd\n",
    "import urllib.request\n",
    "import scattertext as st\n",
    "from scattertext.termranking import OncePerDocFrequencyRanker\n",
    "\n",
    "try:\n",
    "    print(\"Downloading tweet dataset\")\n",
    "    df_mf = pd.read_csv('emoji_data.csv')\n",
    "except:\n",
    "    print(\"Downloading tweet dataset\")\n",
    "    with ZipFile(io.BytesIO(urllib.request.urlopen('http://followthehashtag.com/content/uploads/USA-Geolocated-tweets-free-dataset-Followthehashtag.zip').read())) as zf:\n",
    "        df = pd.read_excel(zf.open('dashboard_x_usa_x_filter_nativeretweets.xlsx'))\n",
    "    df['first_name'] = df['User Name'].apply(\n",
    "        lambda x: x.split()[0].lower() if type(x) == str and len(x.split()) > 0 else x)\n",
    "    male_prob = agefromname.AgeFromName().get_all_name_male_prob()\n",
    "    df_aug = pd.merge(df, male_prob, left_on='first_name', right_index=True)\n",
    "    df_aug['gender'] = df_aug['prob'].apply(lambda x: 'm' if x > 0.9 else 'f' if x < 0.1 else '?')\n",
    "    df_mf = df_aug[df_aug['gender'].isin(['m', 'f'])]\n",
    "    df_mf.to_csv('emoji_data.csv', index=False)\n",
    "\n",
    "nlp = st.tweet_tokenizier_factory(nltk.tokenize.TweetTokenizer())\n",
    "df_mf['parse'] = df_mf['Tweet content'].apply(nlp)\n",
    "\n",
    "corpus = st.CorpusFromParsedDocuments(\n",
    "    df_mf,\n",
    "    parsed_col='parse',\n",
    "    category_col='gender',\n",
    "    feats_from_spacy_doc=st.FeatsFromSpacyDocOnlyEmoji()\n",
    ").build()\n",
    "\n",
    "html = st.produce_scattertext_explorer(\n",
    "    corpus,\n",
    "    category='f',\n",
    "    category_name='Female',\n",
    "    not_category_name='Male',\n",
    "    use_full_doc=True,\n",
    "    term_ranker=OncePerDocFrequencyRanker,\n",
    "    sort_by_dist=False,\n",
    "    metadata=(df_mf['User Name']\n",
    "              + ' (@' + df_mf['Nickname'] + ') '\n",
    "              + df_mf['Date'].astype(str)),\n",
    "    width_in_pixels=1000\n",
    ")\n",
    "\n",
    "print('writing EmojiGender.html')\n",
    "open(\"EmojiGender.html\", 'wb').write(html.encode('utf-8'))"
   ]
  }
 ],
 "metadata": {
  "kernelspec": {
   "display_name": "Python 3",
   "language": "python",
   "name": "python3"
  },
  "language_info": {
   "codemirror_mode": {
    "name": "ipython",
    "version": 3
   },
   "file_extension": ".py",
   "mimetype": "text/x-python",
   "name": "python",
   "nbconvert_exporter": "python",
   "pygments_lexer": "ipython3",
   "version": "3.6.5"
  }
 },
 "nbformat": 4,
 "nbformat_minor": 2
}
