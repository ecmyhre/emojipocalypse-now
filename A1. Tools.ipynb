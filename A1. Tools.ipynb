{
 "cells": [
  {
   "cell_type": "markdown",
   "metadata": {},
   "source": [
    "# A1. Tools "
   ]
  },
  {
   "cell_type": "markdown",
   "metadata": {},
   "source": [
    "<img src=\"img/anaconda.png\" width=\"450px\">"
   ]
  },
  {
   "cell_type": "markdown",
   "metadata": {},
   "source": [
    "<div class=\"alert alert-success\">\n",
    "Anaconda is an open-source distribution of Python, designed for scientific computing, data science and avanced computing. \n",
    "</div>\n",
    "\n",
    "<div class=\"alert alert-info\">\n",
    "The anaconda website is \n",
    "<a href=\"https://www.anaconda.com\" class=\"alert-link\">here</a>.\n",
    "</div>"
   ]
  },
  {
   "cell_type": "markdown",
   "metadata": {},
   "source": [
    "Anaconda is a distribution, that is, a collection of packages that are curated and maintained together. Anaconda also comes with conda, which is a package manager, allowing you to download, install, and manage other packages. "
   ]
  },
  {
   "cell_type": "markdown",
   "metadata": {},
   "source": [
    "You can check which version of python you are using at any time. Once you have installed anaconda you should make sure you are using Python version 3.6. Use the following command line function to check: "
   ]
  },
  {
   "cell_type": "raw",
   "metadata": {},
   "source": [
    "python --version"
   ]
  },
  {
   "cell_type": "markdown",
   "metadata": {},
   "source": [
    "Here's what it looked like when I did it just now:"
   ]
  },
  {
   "cell_type": "markdown",
   "metadata": {},
   "source": [
    "<img src=\"img/check-python-version.PNG\" width=\"800px\">"
   ]
  },
  {
   "cell_type": "markdown",
   "metadata": {},
   "source": [
    "<img src=\"img/jupyter.png\" width=\"300px\">"
   ]
  },
  {
   "cell_type": "markdown",
   "metadata": {},
   "source": [
    "<div class=\"alert alert-success\">\n",
    "Jupyter notebooks are a way to combine executable code, code outputs, and text into one connected file (.ipynb). They run in a web browser and connect to a kernel to be able to execute code. \n",
    "</div>\n",
    "\n",
    "<div class=\"alert alert-success\">\n",
    "The official Jupyter website is available \n",
    "<a href=\"http://jupyter.org\" class=\"alert-link\">here</a>.\n",
    "</div>\n"
   ]
  },
  {
   "cell_type": "markdown",
   "metadata": {},
   "source": [
    "You do not need to download Jupyter as it comes packaged with anaconda. "
   ]
  },
  {
   "cell_type": "markdown",
   "metadata": {},
   "source": [
    "<img src=\"img/NBViewer.png\" width=\"800px\">"
   ]
  },
  {
   "cell_type": "markdown",
   "metadata": {},
   "source": [
    "<div class=\"alert alert-success\">\n",
    "Notebooks can be rendered on webpages, and shared with others. NBViewer is a tool to host and render notebooks.\n",
    "</div>\n",
    "\n",
    "<div class=\"alert alert-info\">\n",
    "NBViewer is available \n",
    "<a href=\"https://nbviewer.jupyter.org/\" class=\"alert-link\">here</a>.\n",
    "</div>"
   ]
  },
  {
   "cell_type": "markdown",
   "metadata": {},
   "source": [
    "NBViewer is not a tool that you need to download, or necessarily use at all, it is simply a useful tool available online to view notebooks."
   ]
  },
  {
   "cell_type": "markdown",
   "metadata": {},
   "source": [
    "<img src=\"img/git.png\" width=\"400px\">"
   ]
  },
  {
   "cell_type": "markdown",
   "metadata": {},
   "source": [
    "<img src=\"img/github.png\" width=\"400px\">"
   ]
  },
  {
   "cell_type": "markdown",
   "metadata": {},
   "source": [
    "<div class=\"alert alert-success\">\n",
    "Git is a version control system: a tool to track changes in files, across multiple locations.\n",
    "</div>\n",
    "\n",
    "<div class=\"alert alert-success\">\n",
    "Github is a web based version of Git, and version control repository or internet hosting service. It's a place to put code that is tracked with git.</div>\n",
    "\n",
    "<div class=\"alert alert-info\">\n",
    "Install \n",
    "<a href=\"https://git-scm.com/book/en/v2/Getting-Started-Installing-Git\" class=\"alert-link\">git</a>,\n",
    "if you don't already have it, and create an account on \n",
    "<a href=\"https://github.com/\" class=\"alert-link\">Github</a>.\n",
    "</div>\n",
    "\n",
    "Git & Github are not the same thing, though, in practice, they are commonly used together, whereby git is used as a tool to version control code and manage multiple copies stored across your computer, as well as on remote repositories that are stored on Github."
   ]
  },
  {
   "cell_type": "markdown",
   "metadata": {},
   "source": [
    "You can check that you have git installed (doesn't matter which version for now) using the following command line function."
   ]
  },
  {
   "cell_type": "raw",
   "metadata": {},
   "source": [
    "git --version"
   ]
  },
  {
   "cell_type": "markdown",
   "metadata": {},
   "source": [
    "Here's what it looked like when I did it just now:"
   ]
  },
  {
   "cell_type": "markdown",
   "metadata": {},
   "source": [
    "<img src=\"img/check-git-version.PNG\" width=\"800px\">"
   ]
  },
  {
   "cell_type": "markdown",
   "metadata": {},
   "source": [
    "## Git Cheatsheet\n",
    "\n",
    "The most common git functions are:\n",
    "\n",
    "- git status\n",
    "    - Check the status of a git repository\n",
    "- git add 'file'\n",
    "    - Add a file to staging area\n",
    "- git commit -m 'message'\n",
    "    - Log a 'save point' of all changes in the staging area.\n",
    "- git push\n",
    "    - Copy commits to remote\n",
    "- git diff 'file'\n",
    "    - Check what has changed in file since last commit\n",
    "- git clone 'repo'\n",
    "    - Create a local copy of a git repository\n",
    "- git pull\n",
    "    - Update your local copy of a git repository from the remote"
   ]
  },
  {
   "cell_type": "markdown",
   "metadata": {},
   "source": [
    "# Enviornments"
   ]
  },
  {
   "cell_type": "markdown",
   "metadata": {},
   "source": [
    "<div class=\"alert alert-success\">\n",
    "Environments are isolated, independent installations of a programming language and groups of packages, that don't interfere with each other. \n",
    "</div>\n",
    "\n",
    "<div class=\"alert alert-info\">\n",
    "Anaconda has detailed instructions on using environments available \n",
    "<a href=\"https://conda.io/docs/using/envs.html\" class=\"alert-link\">here</a>.\n",
    "</div>"
   ]
  },
  {
   "cell_type": "markdown",
   "metadata": {},
   "source": [
    "You do not need to use environments, however you may find it useful if you want or need to maintain multiple different versions of Python. "
   ]
  },
  {
   "cell_type": "markdown",
   "metadata": {},
   "source": [
    "If you want to use an enviornment, use the following command line function, replacing 'envname' with a name to call this enviornment. Running this will install a new env with python 3.6 and the anaconda distribution."
   ]
  },
  {
   "cell_type": "raw",
   "metadata": {},
   "source": [
    "$ conda create --name envname python=3.6 anaconda "
   ]
  },
  {
   "cell_type": "markdown",
   "metadata": {},
   "source": [
    "You will then need to activate this env everytime you want to use it. "
   ]
  },
  {
   "cell_type": "markdown",
   "metadata": {},
   "source": [
    "To activate your env:"
   ]
  },
  {
   "cell_type": "raw",
   "metadata": {},
   "source": [
    "$ source activate envname"
   ]
  },
  {
   "cell_type": "markdown",
   "metadata": {},
   "source": [
    "To deactivate you env:"
   ]
  },
  {
   "cell_type": "raw",
   "metadata": {},
   "source": [
    "$ source deactivate envname"
   ]
  },
  {
   "cell_type": "markdown",
   "metadata": {},
   "source": [
    "# Useful parts of the standard (python) library\n",
    "\n",
    "\n",
    "The full list of packages in the standard library is available [here](https://docs.python.org/3.6/library/index.html).\n",
    "\n",
    "### Basic Utilities\n",
    "\n",
    "- [os](https://docs.python.org/3.6/library/os.html) - miscellaneous operating system operations.\n",
    "- [sys](https://docs.python.org/3.6/library/sys.html) - system operations.\n",
    "- [datetime](https://docs.python.org/3.6/library/datetime.html) - manipulating dates & times.\n",
    "- [glob](https://docs.python.org/3.6/library/glob.html) - searching path names.\n",
    "\n",
    "### Useful Functions\n",
    "\n",
    "- [math](https://docs.python.org/3.6/library/math.html) - mathematical functions.\n",
    "- [random](https://docs.python.org/3.6/library/random.html) - (pseudo) random number generators.\n",
    "- [re](https://docs.python.org/3.6/library/re.html) - regular expressions.\n",
    "\n",
    "### File Formats\n",
    "\n",
    "- [json](https://docs.python.org/3.6/library/json.html) - support for working with JSON files.\n",
    "- [csv](https://docs.python.org/3.6/library/csv.html) - support for working with CSV files.\n",
    "\n",
    "### Data Objects\n",
    "\n",
    "- [collections](https://docs.python.org/3.6/library/collections.html) - container data types.\n",
    "- [pickle](https://docs.python.org/3.6/library/pickle.html) - serializing & de-serializing (saving and loading complex objects)."
   ]
  },
  {
   "cell_type": "markdown",
   "metadata": {},
   "source": [
    "# Useful Python Packages\n",
    "\n",
    "These packages are all included in the anaconda distribution.\n",
    "\n",
    "### Core Packages\n",
    "\n",
    "- [scipy](https://www.scipy.org) - mathematics, science, and engineering.\n",
    "- [numpy](http://www.numpy.org) - numerical computing with arrays & array operations.\n",
    "- [pandas](https://pandas.pydata.org) - data structures and data analysis.\n",
    "- [scikit-learn](http://scikit-learn.org/stable/) - machine learning and data analysis.\n",
    "    \n",
    "### Text Mining\n",
    "\n",
    "- [nltk](http://www.nltk.org) - natural language processing.\n",
    "- [gensim](https://radimrehurek.com/gensim/) - topic modelling.\n",
    "\n",
    "### Mathematics & Statistics\n",
    "\n",
    "- [sympy](http://www.sympy.org/en/index.html) - symbolic mathematics.\n",
    "- [statsmodels](http://www.statsmodels.org/stable/index.html) - statistical modelling.\n",
    "\n",
    "### Web Scraping\n",
    "\n",
    "- [requests](http://docs.python-requests.org/en/master/) - HTTP requests.\n",
    "- [scrapy](https://scrapy.org) - web scraping.\n",
    "    \n",
    "### Plotting / Vizualization Libraries\n",
    "- [matplotlib](https://matplotlib.org) - 2D plotting library.\n",
    "- [seaborn](https://seaborn.pydata.org/) - visualization (based on matplotlib).\n",
    "- [bokeh](http://bokeh.pydata.org/en/latest/) - interactive visualizations.\n",
    "    \n",
    "### Graph Theory / Networks\n",
    "- [networkx](https://networkx.github.io/) - network analysis.\n",
    "- [graph-tool](https://graph-tool.skewed.de/) - manipulation and analysis of graphs.\n",
    "    \n",
    "### Deep Learning\n",
    "\n",
    "- [theano](http://deeplearning.net/software/theano/) - mathematical operations on multi-dimensional arrays.\n",
    "- [tensorflow](https://www.tensorflow.org/) - numerical computation using data flow graphs.\n",
    "- [keras](https://keras.io) - a high-level neural network library."
   ]
  },
  {
   "cell_type": "markdown",
   "metadata": {},
   "source": [
    "# Typesetting in $\\LaTeX$"
   ]
  },
  {
   "cell_type": "markdown",
   "metadata": {},
   "source": [
    "#### Declaring $\\LaTeX$"
   ]
  },
  {
   "cell_type": "markdown",
   "metadata": {},
   "source": [
    "To specify that a chunk of text should be rendered with $\\LaTeX$, you must enclose it in dollar signs (`$`), like so: `$chunk of text$`. The result should be: $chunk of text$. \n",
    "\n",
    "Note that $\\LaTeX$ doesn't care about spaces, so if you want to have spaces, you have to add them in yourself, using backslashes: `$text\\ with\\ spaces$` for $text\\ with\\ spaces$.\n",
    "\n",
    "Also, if you see any interesting $\\LaTeX$ in a Markdown cell, you can double click the cell to check out the formatting. The same applies for cool Markdown syntax, like the table of contents above."
   ]
  },
  {
   "cell_type": "markdown",
   "metadata": {},
   "source": [
    "#### Basic equation formating $\\LaTeX$"
   ]
  },
  {
   "cell_type": "markdown",
   "metadata": {},
   "source": [
    " Let's start with the equation for a line, `y = mx + b`. We can simply type `$y = mx + b$` to get:\n",
    " \n",
    " $y = mx + b$\n",
    " \n",
    " Equations often use superscripts and subscripts. You can add single-character super- and subscripts using `^` and `_`, respectively:\n",
    " \n",
    " $y_1 = m_1x_1^2 + b_1$\n",
    " \n",
    " If you want to put multiple characters in a super- or sub_script, just enclose them with curly brackets: `^{your ad here}`.\n",
    "\n",
    "$This^{works^{pretty^{well}}}_{but_{is_{hard_{to_{read}}}}}$!"
   ]
  },
  {
   "cell_type": "markdown",
   "metadata": {},
   "source": [
    "#### Greek letters and weird mathy symbols $\\LaTeX$"
   ]
  },
  {
   "cell_type": "markdown",
   "metadata": {},
   "source": [
    "This [cheat sheet](http://web.ift.uib.no/Teori/KURS/WRK/TeX/symALL.html) is a nice reference point for $\\LaTeX$'s non-Latin characters, including Greek letters, like $\\alpha$ and $\\beta$, and fancy mathematical symbols like $\\therefore$ (pronounced \"therefore\" or \"_ergo_\") and $\\forall$ (pronounced \"for all\").\n",
    "\n",
    "Greek letters are so common that they have a special system: to produce upper and lower case versions of a Greek letter, you simply type '$\\Letter$' or '$\\letter$', where `letter` is the letter's name, e.g. `\\Gamma` or `\\gamma` for $\\Gamma$ or $\\gamma$."
   ]
  },
  {
   "cell_type": "markdown",
   "metadata": {},
   "source": [
    "#### Fractions and derivatives \n",
    "\n",
    "To produce a fraction, type `$\\frac{numerator}{denominator}$` to get $\\frac{numerator}{denominator}$.\n",
    "\n",
    "You can use the same command to produce (partial) derivative symbols, in combination with either a `d` or the `partial` command:\n",
    "\n",
    "$\\frac{d x}{d t}$\n",
    "\n",
    "$\\frac{\\partial x}{\\partial t}$"
   ]
  },
  {
   "cell_type": "markdown",
   "metadata": {},
   "source": [
    "### Sums and Integrals\n",
    "\n",
    "Both sums and integrals use a similar syntax: `$\\sum_{start}^{finish}{stuff}$` and `$\\int_{start}^{finish}{stuff}$` for \n",
    "\n",
    "$\\sum_{start}^{finish}{stuff}$ and $\\int_{start}^{finish}{stuff}$.\n",
    "\n",
    "You may have noticed that the expressions are starting to get crowded. If you give $\\LaTeX$ a bit more space, it can do a better job of displaying the math. You can do this by using double dollar signs (`$$`) instead of single dollar signs, which tells $\\LaTeX$ to render the math on a new line: `$$\\sum_{start}^{finish}{stuff}$$` gives you:\n",
    "\n",
    "$$\\sum_{start}^{finish}{stuff}$$\n",
    "\n",
    "whether you put it on a new line or not! To make the raw text easier to read, we usually put the text on a different line anyway."
   ]
  },
  {
   "cell_type": "markdown",
   "metadata": {},
   "source": [
    "### Multiple Lines and Alignment\n",
    "\n",
    "Double-dollars are also good for setting off a block of equations, like:\n",
    "\n",
    "$$\n",
    "    f'\\ =\\ f \\\\\n",
    "    f \\ =\\ \\mathrm{e}^x\\ + C\n",
    "$$\n",
    "\n",
    "If want to make this block prettier, we have specify an `align` segment: we wrap the text in `\\begin{align}` and `end{align}`. We also have to specify, using ampersands (`&`), which points we wish to line up, usually the equals signs:\n",
    "\n",
    "$$\n",
    "\\begin{align}\n",
    "    f'\\ &=\\ f \\\\\n",
    "    f \\ &=\\ \\mathrm{e}^x\\ + C\n",
    "\\end{align}\n",
    "$$"
   ]
  },
  {
   "cell_type": "markdown",
   "metadata": {},
   "source": [
    "### Vectors and Matrices\n",
    "\n",
    "Vectors are often indicated by the addition of an arrow over a lowercase letter : $\\vec{x}$, or `$\\vec{x}$`. At other times, they are indicated with **boldface**, as in $\\mathbf{x}$, or `$\\mathbf{x}$`. Some people are paranoid enough to wear both belts and suspenders. They frequently indicate their vectors as $\\vec{\\mathbf{x}}$ (`$\\vec{\\mathbf{x}}$`) or $\\mathbf{\\vec{x}}$ (`$\\mathbf{\\vec{x}}$`).\n",
    "\n",
    "Matrices are usually represented with boldface capital letters: $\\mathbf{M}$. When this is more of a burden than an aid, they can be represented with simply captial letters: $M$.\n",
    "\n",
    "When we multiply matrices with matrices or vectors, we usually use the convention adopted for multiplication of scalar value: we simply write the symbols next to each other, as in $\\mathbf{M}\\vec{x}$ or $A\\vec{b}$ (the fancy-pants name for this is juxtaposition). Note the alignment mismatch due to the `\\vec` arrow -- this is a peculiarity of setting $\\LaTeX$ in a Jupyter notebook, and so boldface is preffered for indicating vectors. \n",
    "\n",
    "If we wish to be explicit about vector multiplication, we use the symbol $\\cdot$ (`$\\cdot$`), as in $x\\cdot x^T$. Transposes can be indicated with a superscripted $\\intercal$ (`$intercal$`) or a superscripted T: $^T$"
   ]
  },
  {
   "cell_type": "markdown",
   "metadata": {},
   "source": []
  },
  {
   "cell_type": "markdown",
   "metadata": {},
   "source": []
  },
  {
   "cell_type": "markdown",
   "metadata": {},
   "source": []
  },
  {
   "cell_type": "markdown",
   "metadata": {},
   "source": []
  },
  {
   "cell_type": "markdown",
   "metadata": {},
   "source": [
    "# Launch an .ipynb "
   ]
  },
  {
   "cell_type": "markdown",
   "metadata": {},
   "source": [
    "I launch Jupyter Notebook directly from my command line. It looks like this:"
   ]
  },
  {
   "cell_type": "raw",
   "metadata": {},
   "source": [
    "jupyter notebook"
   ]
  },
  {
   "cell_type": "markdown",
   "metadata": {},
   "source": [
    "<img src=\"img/1-open-jupyternb-2.png\" width=\"800px\">"
   ]
  },
  {
   "cell_type": "markdown",
   "metadata": {},
   "source": [
    "A browser should pop up. It looks like this:"
   ]
  },
  {
   "cell_type": "raw",
   "metadata": {},
   "source": [
    "http://localhost:8889/tree"
   ]
  },
  {
   "cell_type": "markdown",
   "metadata": {},
   "source": [
    "<img src=\"img/jupyter-launched.png\" width=\"800px\">"
   ]
  },
  {
   "cell_type": "markdown",
   "metadata": {},
   "source": [
    "There are a number of keyboard shortcuts that make editing a Jupyter notebook easier. \n",
    "\n",
    "|          *Action*         |   *Shortcut*  |\n",
    "|:-------------------------:|:-------------:|\n",
    "| Run Cell                  | `shift+enter` |\n",
    "| Run Cell and Insert Below |  `alt+enter`  |\n",
    "| Insert Cell Above         |    `esc, a`   |\n",
    "| Insert Cell Below         |    `esc, b`   |\n",
    "| Convert Cell to Markdown  |    `esc, m`   |\n",
    "| Convert Cell to Code      |    `esc, y`   |\n",
    "\n",
    "Note that for the last four commands, you need to press `enter` afterwards to resume editing."
   ]
  },
  {
   "cell_type": "markdown",
   "metadata": {},
   "source": [
    "## command mode (press Esc to enable) \n",
    "\n",
    "- ↩  : enter edit mode\n",
    "\n",
    "- ⇧↩  : run cell, select below\n",
    "\n",
    "- ⌃↩  : run cell\n",
    "\n",
    "- ⌥↩  : run cell, insert below\n",
    "\n",
    "- Y  : to code\n",
    "\n",
    "- M  : to markdown\n",
    "\n",
    "- R  : to raw\n",
    "\n",
    "- 1  : to heading 1\n",
    "\n",
    "- 2  : to heading 2\n",
    "\n",
    "- 3  : to heading 3\n",
    "\n",
    "- 4  : to heading 4\n",
    "\n",
    "- 5  : to heading 5\n",
    "\n",
    "- 6  : to heading 6\n",
    "\n",
    "- ↑  : select cell above\n",
    "\n",
    "- K  : select cell above\n",
    "\n",
    "- ↓  : select cell below\n",
    "\n",
    "- J  : select cell below\n",
    "\n",
    "- A  : insert cell above\n",
    "\n",
    "- B  : insert cell below\n",
    "\n",
    "- X  : cut selected cell\n",
    "\n",
    "- C  : copy selected cell\n",
    "\n",
    "- ⇧V  : paste cell above\n",
    "\n",
    "- V  : paste cell below\n",
    "\n",
    "- Z  : undo last cell deletion\n",
    "\n",
    "- D,D  : delete selected cell\n",
    "\n",
    "- ⇧M  : merge cell below\n",
    "\n",
    "- S  : Save and Checkpoint\n",
    "\n",
    "- ⌘S  : Save and Checkpoint\n",
    "\n",
    "- L  : toggle line numbers\n",
    "\n",
    "- O  : toggle output\n",
    "\n",
    "- ⇧O  : toggle output scrolling\n",
    "\n",
    "- Esc  : close pager\n",
    "\n",
    "- Q  : close pager\n",
    "\n",
    "- H  : show keyboard shortcut help dialog\n",
    "\n",
    "- I,I  : interrupt kernel\n",
    "\n",
    "- 0,0  : restart kernel\n",
    "\n",
    "- ␣  : scroll down\n",
    "\n",
    "- ⇧␣  : scroll up\n",
    "\n",
    "- ⇧  : ignore\n",
    "\n",
    "### Edit Mode (press `Enter` to enable)\n",
    "\n",
    "- ⇥  : code completion or indent\n",
    "\n",
    "- ⇧⇥  : tooltip\n",
    "\n",
    "- ⌘]  : indent\n",
    "\n",
    "- ⌘[  : dedent\n",
    "\n",
    "- ⌘A  : select all\n",
    "\n",
    "- ⌘Z  : undo\n",
    "\n",
    "- ⌘⇧Z  : redo\n",
    "\n",
    "- ⌘Y  : redo\n",
    "\n",
    "- ⌘↑  : go to cell start\n",
    "\n",
    "- ⌘↓  : go to cell end\n",
    "\n",
    "- ⌥←  : go one word left\n",
    "\n",
    "- ⌥→  : go one word right\n",
    "\n",
    "- ⌥⌫  : delete word before\n",
    "\n",
    "- ⌥⌦  : delete word after\n",
    "\n",
    "- Esc  : command mode\n",
    "\n",
    "- ⌃M  : command mode\n",
    "\n",
    "- ⇧↩  : run cell, select below\n",
    "\n",
    "- ⌃↩  : run cell\n",
    "\n",
    "- ⌥↩  : run cell, insert below\n",
    "\n",
    "- ⌃⇧subtract  : split cell\n",
    "\n",
    "- ⌃⇧  : split cell\n",
    "\n",
    "- ⌘S  : Save and Checkpoint\n",
    "\n",
    "- ↑  : move cursor up or previous cell\n",
    "\n",
    "- ↓  : move cursor down or next cell\n",
    "\n",
    "- ⇧  : ignore"
   ]
  },
  {
   "cell_type": "markdown",
   "metadata": {},
   "source": [
    "### Proper formatting of cells\n",
    "\n",
    "You should keep your cells as simple and as coherent as possible. You should define one function, or maybe a handful of related functions, in a single cell, and that's about it.\n",
    "\n",
    "A quick note: One of the major differences between coding in Python and coding in MATLAB is the importance of user-defined functions. In Python, functions are like any other variable -- they can be passed to functions, renamed, and even returned by other functions. We can also define them inline very easily, as we do below. \n",
    "\n",
    "This leaves us free to define small functions without all the overhead of extra files that happens in languages like MATLAB. Defining small functions that each handle one small part of a task helps us think about our problem in manageable pieces, reuse code as much as possible, and keep the logic of our code as simple as possible.\n",
    "\n",
    "If we wanted to write code to bake cookies, we might define the following functions: `readRecipe`, `measureIngredient`, `mixIngredients`, `preheatOven`, and `timedBake`. That way, if we later need to bake a cake or make a salad, we already have most of the things we need!\n",
    "\n",
    "To make sure that somebody coming along later can use our function without having to read and understand the code, we begin with a \"doc string\", a brief explanation of what the function does. The formatting used below is standard.\n",
    "\n",
    "You can view the doc string of any function, including the ones you write, by applying the function `help` to your function: `help(functionName)`. We'll do that below for our function."
   ]
  },
  {
   "cell_type": "code",
   "execution_count": 1,
   "metadata": {},
   "outputs": [
    {
     "name": "stdout",
     "output_type": "stream",
     "text": [
      "Help on function square in module __main__:\n",
      "\n",
      "square(x)\n",
      "    Take in a numeric variable x and return its square, y\n",
      "    \n",
      "    Parameters\n",
      "    ----------\n",
      "    x        : numeric variable that supports multiplication, number to square\n",
      "    \n",
      "    Returns\n",
      "    -------\n",
      "    y        : same type as x, square of the input\n",
      "\n"
     ]
    }
   ],
   "source": [
    "def square(x):\n",
    "    \"\"\"\n",
    "    Take in a numeric variable x and return its square, y\n",
    "    \n",
    "    Parameters\n",
    "    ----------\n",
    "    x        : numeric variable that supports multiplication, number to square\n",
    "    \n",
    "    Returns\n",
    "    -------\n",
    "    y        : same type as x, square of the input\n",
    "    \"\"\"\n",
    "    \n",
    "    y = x*x\n",
    "    \n",
    "    return y\n",
    "\n",
    "help(square)"
   ]
  },
  {
   "cell_type": "markdown",
   "metadata": {},
   "source": [
    "### Best practices for code cells\n",
    "\n",
    "Here are some pieces of advice for when you're writing code cells. At the start of the course, you won't be writing your own cells, but this will change as the course goes on.\n",
    "\n",
    "1. Keep your code cells short. If you find yourself having one massive code cell, break it up. If you can't break the cell up, try breaking your code into smaller pieces.\n",
    "1. Always properly comment your code. Provide complete doc strings for any functions you define.\n",
    "1. Do all of your imports in the first code cell at the top of the notebook. Import one module per line."
   ]
  },
  {
   "cell_type": "markdown",
   "metadata": {},
   "source": [
    "# MARKDOWN AND MARKDOWN CELLS \n",
    "\n",
    "Markdown cells contain text and equations.  The text is written in **markdown**, a very simple formatting language used for things like blogs. You can check out [this list of markdown basics](http://daringfireball.net/projects/markdown/syntax) to get most of what you need to know.  If you'd like to see the markdown used in this document, you can also \"un-render\" the text cells by double-clicking on them."
   ]
  },
  {
   "cell_type": "markdown",
   "metadata": {},
   "source": [
    "## MARKDOWN EMPHASIS \n",
    "\n",
    "Markdown treats asterisks (*) and underscores (_) as indicators of emphasis. Text wrapped with one * or _ will be wrapped with an HTML `<em>` tag; double *’s or _’s will be wrapped with an HTML `<strong>` tag. E.g., this input:"
   ]
  },
  {
   "cell_type": "raw",
   "metadata": {},
   "source": [
    "*single asterisks*\n",
    "<em>single asterisks</em>"
   ]
  },
  {
   "cell_type": "markdown",
   "metadata": {},
   "source": [
    "*single asterisks*\n",
    "<em>single asterisks</em>"
   ]
  },
  {
   "cell_type": "raw",
   "metadata": {},
   "source": [
    "_single underscores_\n",
    "<em>single underscores</em>"
   ]
  },
  {
   "cell_type": "markdown",
   "metadata": {},
   "source": [
    "_single underscores_\n",
    "<em>single underscores</em>"
   ]
  },
  {
   "cell_type": "raw",
   "metadata": {},
   "source": [
    "**double asterisks**\n",
    "<strong>double asterisks</strong>"
   ]
  },
  {
   "cell_type": "markdown",
   "metadata": {},
   "source": [
    "**double asterisks**\n",
    "<strong>double asterisks</strong>"
   ]
  },
  {
   "cell_type": "raw",
   "metadata": {},
   "source": [
    "__double underscores__\n",
    "<strong>double underscores</strong>"
   ]
  },
  {
   "cell_type": "markdown",
   "metadata": {},
   "source": [
    "__double underscores__\n",
    "<strong>double underscores</strong>"
   ]
  },
  {
   "cell_type": "raw",
   "metadata": {},
   "source": [
    "<div class=\"alert alert-success\">\n",
    "  <strong>Success!</strong> Indicates a successful or positive action.\n",
    "</div>\n",
    "\n",
    "<div class=\"alert alert-info\">\n",
    "  <strong>Info!</strong> Indicates a neutral informative change or action.\n",
    "</div>\n",
    "\n",
    "<div class=\"alert alert-warning\">\n",
    "  <strong>Warning!</strong> Indicates a warning that might need attention.\n",
    "</div>\n",
    "\n",
    "<div class=\"alert alert-danger\">\n",
    "  <strong>Danger!</strong> Indicates a dangerous or potentially negative action.\n",
    "</div>"
   ]
  },
  {
   "cell_type": "markdown",
   "metadata": {},
   "source": [
    "<div class=\"alert alert-success\">\n",
    "  <strong>Success!</strong> Indicates a successful or positive action.\n",
    "</div>\n",
    "\n",
    "<div class=\"alert alert-info\">\n",
    "  <strong>Info!</strong> Indicates a neutral informative change or action.\n",
    "</div>\n",
    "\n",
    "<div class=\"alert alert-warning\">\n",
    "  <strong>Warning!</strong> Indicates a warning that might need attention.\n",
    "</div>\n",
    "\n",
    "<div class=\"alert alert-danger\">\n",
    "  <strong>Danger!</strong> Indicates a dangerous or potentially negative action.\n",
    "</div>"
   ]
  },
  {
   "cell_type": "markdown",
   "metadata": {},
   "source": [
    "# MARKDOWN HEADERS \n",
    "\n",
    "Markdown supports two styples of headers, underlined or closed. \n",
    "\n",
    "Setext-style headers are “underlined” using equal signs (for first-level headers) and dashes (for second-level headers). For example:"
   ]
  },
  {
   "cell_type": "raw",
   "metadata": {},
   "source": [
    "This is an H1\n",
    "=============\n",
    "\n",
    "This is an H2\n",
    "-------------\n",
    "\n",
    "Any number of underlining =’s or -’s will work."
   ]
  },
  {
   "cell_type": "markdown",
   "metadata": {},
   "source": [
    "This is an H1\n",
    "=============\n",
    "\n",
    "This is an H2\n",
    "-------------\n",
    "\n",
    "Any number of underlining =’s or -’s will work."
   ]
  },
  {
   "cell_type": "raw",
   "metadata": {},
   "source": [
    "> This is a blockquote with two paragraphs. Lorem ipsum dolor sit amet,\n",
    "> consectetuer adipiscing elit. Aliquam hendrerit mi posuere lectus.\n",
    "> Vestibulum enim wisi, viverra nec, fringilla in, laoreet vitae, risus.\n",
    "> \n",
    "> Donec sit amet nisl. Aliquam semper ipsum sit amet velit. Suspendisse\n",
    "> id sem consectetuer libero luctus adipiscing."
   ]
  },
  {
   "cell_type": "markdown",
   "metadata": {},
   "source": [
    "> This is a blockquote with two paragraphs. Lorem ipsum dolor sit amet,\n",
    "> consectetuer adipiscing elit. Aliquam hendrerit mi posuere lectus.\n",
    "> Vestibulum enim wisi, viverra nec, fringilla in, laoreet vitae, risus.\n",
    "> \n",
    "> Donec sit amet nisl. Aliquam semper ipsum sit amet velit. Suspendisse\n",
    "> id sem consectetuer libero luctus adipiscing."
   ]
  },
  {
   "cell_type": "raw",
   "metadata": {},
   "source": [
    "> This is a blockquote with two paragraphs. Lorem ipsum dolor sit amet,\n",
    "consectetuer adipiscing elit. Aliquam hendrerit mi posuere lectus.\n",
    "Vestibulum enim wisi, viverra nec, fringilla in, laoreet vitae, risus.\n",
    "\n",
    "> Donec sit amet nisl. Aliquam semper ipsum sit amet velit. Suspendisse\n",
    "id sem consectetuer libero luctus adipiscing."
   ]
  },
  {
   "cell_type": "markdown",
   "metadata": {},
   "source": [
    "> This is a blockquote with two paragraphs. Lorem ipsum dolor sit amet,\n",
    "consectetuer adipiscing elit. Aliquam hendrerit mi posuere lectus.\n",
    "Vestibulum enim wisi, viverra nec, fringilla in, laoreet vitae, risus.\n",
    "\n",
    "> Donec sit amet nisl. Aliquam semper ipsum sit amet velit. Suspendisse\n",
    "id sem consectetuer libero luctus adipiscing."
   ]
  },
  {
   "cell_type": "raw",
   "metadata": {},
   "source": [
    "> This is the first level of quoting.\n",
    ">\n",
    "> > This is nested blockquote.\n",
    ">\n",
    "> Back to the first level."
   ]
  },
  {
   "cell_type": "markdown",
   "metadata": {},
   "source": [
    "> This is the first level of quoting.\n",
    ">\n",
    "> > This is nested blockquote.\n",
    ">\n",
    "> Back to the first level."
   ]
  },
  {
   "cell_type": "raw",
   "metadata": {},
   "source": [
    "> ## This is a header.\n",
    "> \n",
    "> 1.   This is the first list item.\n",
    "> 2.   This is the second list item.\n",
    "> \n",
    "> Here's some example code:\n",
    "> \n",
    ">     return shell_exec(\"echo $input | $markdown_script\");"
   ]
  },
  {
   "cell_type": "markdown",
   "metadata": {},
   "source": [
    "> ## This is a header.\n",
    "> \n",
    "> 1.   This is the first list item.\n",
    "> 2.   This is the second list item.\n",
    "> \n",
    "> Here's some example code:\n",
    "> \n",
    ">     return shell_exec(\"echo $input | $markdown_script\");"
   ]
  },
  {
   "cell_type": "raw",
   "metadata": {},
   "source": [
    "- [ ] step one\n",
    "- [ ] step two\n",
    "- [ ] step three\n",
    "- [ ] step four \n",
    "- [x] none"
   ]
  },
  {
   "cell_type": "markdown",
   "metadata": {},
   "source": [
    "- [ ] step one\n",
    "- [ ] step two\n",
    "- [ ] step three\n",
    "- [ ] step four \n",
    "- [x] none"
   ]
  },
  {
   "cell_type": "raw",
   "metadata": {},
   "source": [
    "This is [an example](http://example.com/ \"Title\") inline link.\n",
    "\n",
    "[This link](http://example.net/) has no title attribute."
   ]
  },
  {
   "cell_type": "markdown",
   "metadata": {},
   "source": [
    "This is [an example](http://example.com/ \"Title\") inline link.\n",
    "\n",
    "[This link](http://example.net/) has no title attribute."
   ]
  },
  {
   "cell_type": "raw",
   "metadata": {},
   "source": [
    "<p>This is <a href=\"http://example.com/\" title=\"Title\">\n",
    "an example</a> inline link.</p>\n",
    "\n",
    "<p><a href=\"http://example.net/\">This link</a> has no\n",
    "title attribute.</p>"
   ]
  },
  {
   "cell_type": "markdown",
   "metadata": {},
   "source": [
    "<p>This is <a href=\"http://example.com/\" title=\"Title\">\n",
    "an example</a> inline link.</p>\n",
    "\n",
    "<p><a href=\"http://example.net/\">This link</a> has no\n",
    "title attribute.</p>"
   ]
  }
 ],
 "metadata": {
  "kernelspec": {
   "display_name": "Python 3",
   "language": "python",
   "name": "python3"
  },
  "language_info": {
   "codemirror_mode": {
    "name": "ipython",
    "version": 3
   },
   "file_extension": ".py",
   "mimetype": "text/x-python",
   "name": "python",
   "nbconvert_exporter": "python",
   "pygments_lexer": "ipython3",
   "version": "3.6.5"
  }
 },
 "nbformat": 4,
 "nbformat_minor": 2
}
